{
 "cells": [
  {
   "cell_type": "code",
   "execution_count": 1,
   "metadata": {},
   "outputs": [],
   "source": [
    "from typing import Optional, Tuple\n",
    "\n",
    "from tinygrad import Tensor\n",
    "import tinygrad.nn as nn"
   ]
  },
  {
   "cell_type": "code",
   "execution_count": null,
   "metadata": {},
   "outputs": [
    {
     "data": {
      "text/plain": [
       "<__main__.LSTM at 0x7fdb66586750>"
      ]
     },
     "execution_count": 14,
     "metadata": {},
     "output_type": "execute_result"
    }
   ],
   "source": [
    "\n",
    "LSTM()"
   ]
  },
  {
   "cell_type": "code",
   "execution_count": 15,
   "metadata": {},
   "outputs": [
    {
     "data": {
      "text/plain": [
       "((8, 256), (3, 8, 256))"
      ]
     },
     "execution_count": 15,
     "metadata": {},
     "output_type": "execute_result"
    }
   ],
   "source": [
    "hidden_size = 256\n",
    "input_size = 8\n",
    "seq_len = 4\n",
    "\n",
    "x = Tensor.randint(seq_len, input_size, low=0, high=2) # 8-bit sequence of 10 elements\n",
    "model_1 = nn.LSTMCell(input_size=input_size, hidden_size=hidden_size)\n",
    "model_2 = LSTM(input_size=input_size, hidden_size=hidden_size, n_layers=3)\n",
    "\n",
    "hc_1 = None\n",
    "hc_2 = None\n",
    "for x_i in x:\n",
    "    hc_1 = model_1(x_i, hc_1)\n",
    "    _, hc_2 = model_2(x_i, hc_2) \n",
    "hc_1[0].shape, hc_2[0].shape"
   ]
  }
 ],
 "metadata": {
  "kernelspec": {
   "display_name": ".venv",
   "language": "python",
   "name": "python3"
  },
  "language_info": {
   "codemirror_mode": {
    "name": "ipython",
    "version": 3
   },
   "file_extension": ".py",
   "mimetype": "text/x-python",
   "name": "python",
   "nbconvert_exporter": "python",
   "pygments_lexer": "ipython3",
   "version": "3.11.2"
  }
 },
 "nbformat": 4,
 "nbformat_minor": 2
}

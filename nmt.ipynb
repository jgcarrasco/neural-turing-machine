{
 "cells": [
  {
   "cell_type": "code",
   "execution_count": 1,
   "metadata": {},
   "outputs": [],
   "source": [
    "from typing import Optional, Tuple\n",
    "\n",
    "from tinygrad import Tensor\n",
    "import tinygrad.nn as nn\n",
    "\n",
    "from ntm.models import LSTM"
   ]
  },
  {
   "cell_type": "code",
   "execution_count": null,
   "metadata": {},
   "outputs": [
    {
     "name": "stdout",
     "output_type": "stream",
     "text": [
      "-0.0005770122\n",
      "-0.00062786485\n",
      "-0.0008703482\n",
      "-0.0010710018\n"
     ]
    },
    {
     "data": {
      "text/plain": [
       "array([[[0.51488125, 0.4882633 , 0.5078986 , 0.5077457 , 0.50975394,\n",
       "         0.5043773 , 0.51190865, 0.4862879 ]],\n",
       "\n",
       "       [[0.5148303 , 0.48825854, 0.50794834, 0.5078261 , 0.5097447 ,\n",
       "         0.50432986, 0.5117246 , 0.48632854]],\n",
       "\n",
       "       [[0.5148097 , 0.4882737 , 0.5080145 , 0.5079435 , 0.5096774 ,\n",
       "         0.5042755 , 0.5115015 , 0.48640338]],\n",
       "\n",
       "       [[0.514817  , 0.48829255, 0.5080797 , 0.50805753, 0.50958705,\n",
       "         0.5042264 , 0.51130384, 0.48648652]]], dtype=float32)"
      ]
     },
     "execution_count": 10,
     "metadata": {},
     "output_type": "execute_result"
    }
   ],
   "source": [
    "hidden_size = 256\n",
    "input_size = 8\n",
    "seq_len = 4\n",
    "\n",
    "model = LSTM(input_size=input_size, hidden_size=hidden_size, n_layers=3)\n",
    "\n",
    "x = Tensor.randint(seq_len, input_size, low=0, high=2) # 8-bit sequence of 10 elements\n",
    "def forward_pass(x: Tensor):\n",
    "  y_pred = x.zeros_like().contiguous()\n",
    "  hc = None\n",
    "  # Input the sequence\n",
    "  for x_i in x:\n",
    "    x_i = x_i[None, ...]\n",
    "    _, hc = model(x_i, hc)\n",
    "    print(hc[0].mean().numpy())\n",
    "  # Gather the predictions\n",
    "  y_pred = []\n",
    "  for i in range(x.shape[0]):\n",
    "    x_i = x_i.zeros_like()\n",
    "    y_i, hc = model(x_i, hc)\n",
    "    y_pred.append(y_i)\n",
    "  y_pred = Tensor.stack(*y_pred, dim=0)\n",
    "  return y_pred"
   ]
  }
 ],
 "metadata": {
  "kernelspec": {
   "display_name": ".venv",
   "language": "python",
   "name": "python3"
  },
  "language_info": {
   "codemirror_mode": {
    "name": "ipython",
    "version": 3
   },
   "file_extension": ".py",
   "mimetype": "text/x-python",
   "name": "python",
   "nbconvert_exporter": "python",
   "pygments_lexer": "ipython3",
   "version": "3.11.2"
  }
 },
 "nbformat": 4,
 "nbformat_minor": 2
}
